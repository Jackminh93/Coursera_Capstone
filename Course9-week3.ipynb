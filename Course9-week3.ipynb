{
 "cells": [
  {
   "cell_type": "code",
   "execution_count": 45,
   "metadata": {},
   "outputs": [],
   "source": [
    "import requests\n",
    "import pandas as pd\n",
    "import numpy as np"
   ]
  },
  {
   "cell_type": "code",
   "execution_count": 46,
   "metadata": {},
   "outputs": [
    {
     "data": {
      "text/plain": [
       "(180, 3)"
      ]
     },
     "execution_count": 46,
     "metadata": {},
     "output_type": "execute_result"
    }
   ],
   "source": [
    "dfs = pd.read_html('https://en.wikipedia.org/wiki/List_of_postal_codes_of_Canada:_M',header=0)\n",
    "df = dfs[0]\n",
    "df.shape"
   ]
  },
  {
   "cell_type": "code",
   "execution_count": 47,
   "metadata": {},
   "outputs": [
    {
     "data": {
      "text/html": [
       "<div>\n",
       "<style scoped>\n",
       "    .dataframe tbody tr th:only-of-type {\n",
       "        vertical-align: middle;\n",
       "    }\n",
       "\n",
       "    .dataframe tbody tr th {\n",
       "        vertical-align: top;\n",
       "    }\n",
       "\n",
       "    .dataframe thead th {\n",
       "        text-align: right;\n",
       "    }\n",
       "</style>\n",
       "<table border=\"1\" class=\"dataframe\">\n",
       "  <thead>\n",
       "    <tr style=\"text-align: right;\">\n",
       "      <th></th>\n",
       "      <th>Postal code</th>\n",
       "      <th>Borough</th>\n",
       "      <th>Neighborhood</th>\n",
       "    </tr>\n",
       "  </thead>\n",
       "  <tbody>\n",
       "    <tr>\n",
       "      <th>0</th>\n",
       "      <td>M1A</td>\n",
       "      <td>Not assigned</td>\n",
       "      <td>NaN</td>\n",
       "    </tr>\n",
       "    <tr>\n",
       "      <th>1</th>\n",
       "      <td>M2A</td>\n",
       "      <td>Not assigned</td>\n",
       "      <td>NaN</td>\n",
       "    </tr>\n",
       "    <tr>\n",
       "      <th>2</th>\n",
       "      <td>M3A</td>\n",
       "      <td>North York</td>\n",
       "      <td>Parkwoods</td>\n",
       "    </tr>\n",
       "    <tr>\n",
       "      <th>3</th>\n",
       "      <td>M4A</td>\n",
       "      <td>North York</td>\n",
       "      <td>Victoria Village</td>\n",
       "    </tr>\n",
       "    <tr>\n",
       "      <th>4</th>\n",
       "      <td>M5A</td>\n",
       "      <td>Downtown Toronto</td>\n",
       "      <td>Regent Park / Harbourfront</td>\n",
       "    </tr>\n",
       "    <tr>\n",
       "      <th>...</th>\n",
       "      <td>...</td>\n",
       "      <td>...</td>\n",
       "      <td>...</td>\n",
       "    </tr>\n",
       "    <tr>\n",
       "      <th>175</th>\n",
       "      <td>M5Z</td>\n",
       "      <td>Not assigned</td>\n",
       "      <td>NaN</td>\n",
       "    </tr>\n",
       "    <tr>\n",
       "      <th>176</th>\n",
       "      <td>M6Z</td>\n",
       "      <td>Not assigned</td>\n",
       "      <td>NaN</td>\n",
       "    </tr>\n",
       "    <tr>\n",
       "      <th>177</th>\n",
       "      <td>M7Z</td>\n",
       "      <td>Not assigned</td>\n",
       "      <td>NaN</td>\n",
       "    </tr>\n",
       "    <tr>\n",
       "      <th>178</th>\n",
       "      <td>M8Z</td>\n",
       "      <td>Etobicoke</td>\n",
       "      <td>Mimico NW / The Queensway West / South of Bloo...</td>\n",
       "    </tr>\n",
       "    <tr>\n",
       "      <th>179</th>\n",
       "      <td>M9Z</td>\n",
       "      <td>Not assigned</td>\n",
       "      <td>NaN</td>\n",
       "    </tr>\n",
       "  </tbody>\n",
       "</table>\n",
       "<p>180 rows × 3 columns</p>\n",
       "</div>"
      ],
      "text/plain": [
       "    Postal code           Borough  \\\n",
       "0           M1A      Not assigned   \n",
       "1           M2A      Not assigned   \n",
       "2           M3A        North York   \n",
       "3           M4A        North York   \n",
       "4           M5A  Downtown Toronto   \n",
       "..          ...               ...   \n",
       "175         M5Z      Not assigned   \n",
       "176         M6Z      Not assigned   \n",
       "177         M7Z      Not assigned   \n",
       "178         M8Z         Etobicoke   \n",
       "179         M9Z      Not assigned   \n",
       "\n",
       "                                          Neighborhood  \n",
       "0                                                  NaN  \n",
       "1                                                  NaN  \n",
       "2                                            Parkwoods  \n",
       "3                                     Victoria Village  \n",
       "4                           Regent Park / Harbourfront  \n",
       "..                                                 ...  \n",
       "175                                                NaN  \n",
       "176                                                NaN  \n",
       "177                                                NaN  \n",
       "178  Mimico NW / The Queensway West / South of Bloo...  \n",
       "179                                                NaN  \n",
       "\n",
       "[180 rows x 3 columns]"
      ]
     },
     "execution_count": 47,
     "metadata": {},
     "output_type": "execute_result"
    }
   ],
   "source": [
    "df.head(180)"
   ]
  },
  {
   "cell_type": "code",
   "execution_count": 48,
   "metadata": {},
   "outputs": [
    {
     "data": {
      "text/html": [
       "<div>\n",
       "<style scoped>\n",
       "    .dataframe tbody tr th:only-of-type {\n",
       "        vertical-align: middle;\n",
       "    }\n",
       "\n",
       "    .dataframe tbody tr th {\n",
       "        vertical-align: top;\n",
       "    }\n",
       "\n",
       "    .dataframe thead th {\n",
       "        text-align: right;\n",
       "    }\n",
       "</style>\n",
       "<table border=\"1\" class=\"dataframe\">\n",
       "  <thead>\n",
       "    <tr style=\"text-align: right;\">\n",
       "      <th></th>\n",
       "      <th>Postal Code</th>\n",
       "      <th>Borough</th>\n",
       "      <th>Neighborhood</th>\n",
       "    </tr>\n",
       "  </thead>\n",
       "  <tbody>\n",
       "    <tr>\n",
       "      <th>0</th>\n",
       "      <td>M3A</td>\n",
       "      <td>North York</td>\n",
       "      <td>Parkwoods</td>\n",
       "    </tr>\n",
       "    <tr>\n",
       "      <th>1</th>\n",
       "      <td>M4A</td>\n",
       "      <td>North York</td>\n",
       "      <td>Victoria Village</td>\n",
       "    </tr>\n",
       "    <tr>\n",
       "      <th>2</th>\n",
       "      <td>M5A</td>\n",
       "      <td>Downtown Toronto</td>\n",
       "      <td>Regent Park / Harbourfront</td>\n",
       "    </tr>\n",
       "    <tr>\n",
       "      <th>3</th>\n",
       "      <td>M6A</td>\n",
       "      <td>North York</td>\n",
       "      <td>Lawrence Manor / Lawrence Heights</td>\n",
       "    </tr>\n",
       "    <tr>\n",
       "      <th>4</th>\n",
       "      <td>M7A</td>\n",
       "      <td>Downtown Toronto</td>\n",
       "      <td>Queen's Park / Ontario Provincial Government</td>\n",
       "    </tr>\n",
       "    <tr>\n",
       "      <th>5</th>\n",
       "      <td>M9A</td>\n",
       "      <td>Etobicoke</td>\n",
       "      <td>Islington Avenue</td>\n",
       "    </tr>\n",
       "    <tr>\n",
       "      <th>6</th>\n",
       "      <td>M1B</td>\n",
       "      <td>Scarborough</td>\n",
       "      <td>Malvern / Rouge</td>\n",
       "    </tr>\n",
       "    <tr>\n",
       "      <th>7</th>\n",
       "      <td>M3B</td>\n",
       "      <td>North York</td>\n",
       "      <td>Don Mills</td>\n",
       "    </tr>\n",
       "    <tr>\n",
       "      <th>8</th>\n",
       "      <td>M4B</td>\n",
       "      <td>East York</td>\n",
       "      <td>Parkview Hill / Woodbine Gardens</td>\n",
       "    </tr>\n",
       "    <tr>\n",
       "      <th>9</th>\n",
       "      <td>M5B</td>\n",
       "      <td>Downtown Toronto</td>\n",
       "      <td>Garden District, Ryerson</td>\n",
       "    </tr>\n",
       "  </tbody>\n",
       "</table>\n",
       "</div>"
      ],
      "text/plain": [
       "  Postal Code           Borough                                  Neighborhood\n",
       "0         M3A        North York                                     Parkwoods\n",
       "1         M4A        North York                              Victoria Village\n",
       "2         M5A  Downtown Toronto                    Regent Park / Harbourfront\n",
       "3         M6A        North York             Lawrence Manor / Lawrence Heights\n",
       "4         M7A  Downtown Toronto  Queen's Park / Ontario Provincial Government\n",
       "5         M9A         Etobicoke                              Islington Avenue\n",
       "6         M1B       Scarborough                               Malvern / Rouge\n",
       "7         M3B        North York                                     Don Mills\n",
       "8         M4B         East York              Parkview Hill / Woodbine Gardens\n",
       "9         M5B  Downtown Toronto                      Garden District, Ryerson"
      ]
     },
     "execution_count": 48,
     "metadata": {},
     "output_type": "execute_result"
    }
   ],
   "source": [
    "df.drop(df[df.Borough == 'Not assigned'].index,inplace=True)\n",
    "df.index=range(len(df.index))\n",
    "df.rename(columns={'Postal code':'Postal Code'},inplace=True)\n",
    "df.head(10)"
   ]
  },
  {
   "cell_type": "code",
   "execution_count": 49,
   "metadata": {},
   "outputs": [
    {
     "data": {
      "text/plain": [
       "(103, 3)"
      ]
     },
     "execution_count": 49,
     "metadata": {},
     "output_type": "execute_result"
    }
   ],
   "source": [
    "df.shape"
   ]
  },
  {
   "cell_type": "code",
   "execution_count": 50,
   "metadata": {},
   "outputs": [
    {
     "data": {
      "text/html": [
       "<div>\n",
       "<style scoped>\n",
       "    .dataframe tbody tr th:only-of-type {\n",
       "        vertical-align: middle;\n",
       "    }\n",
       "\n",
       "    .dataframe tbody tr th {\n",
       "        vertical-align: top;\n",
       "    }\n",
       "\n",
       "    .dataframe thead th {\n",
       "        text-align: right;\n",
       "    }\n",
       "</style>\n",
       "<table border=\"1\" class=\"dataframe\">\n",
       "  <thead>\n",
       "    <tr style=\"text-align: right;\">\n",
       "      <th></th>\n",
       "      <th>Postal Code</th>\n",
       "      <th>Latitude</th>\n",
       "      <th>Longitude</th>\n",
       "    </tr>\n",
       "  </thead>\n",
       "  <tbody>\n",
       "    <tr>\n",
       "      <th>0</th>\n",
       "      <td>M1B</td>\n",
       "      <td>43.806686</td>\n",
       "      <td>-79.194353</td>\n",
       "    </tr>\n",
       "    <tr>\n",
       "      <th>1</th>\n",
       "      <td>M1C</td>\n",
       "      <td>43.784535</td>\n",
       "      <td>-79.160497</td>\n",
       "    </tr>\n",
       "    <tr>\n",
       "      <th>2</th>\n",
       "      <td>M1E</td>\n",
       "      <td>43.763573</td>\n",
       "      <td>-79.188711</td>\n",
       "    </tr>\n",
       "    <tr>\n",
       "      <th>3</th>\n",
       "      <td>M1G</td>\n",
       "      <td>43.770992</td>\n",
       "      <td>-79.216917</td>\n",
       "    </tr>\n",
       "    <tr>\n",
       "      <th>4</th>\n",
       "      <td>M1H</td>\n",
       "      <td>43.773136</td>\n",
       "      <td>-79.239476</td>\n",
       "    </tr>\n",
       "  </tbody>\n",
       "</table>\n",
       "</div>"
      ],
      "text/plain": [
       "  Postal Code   Latitude  Longitude\n",
       "0         M1B  43.806686 -79.194353\n",
       "1         M1C  43.784535 -79.160497\n",
       "2         M1E  43.763573 -79.188711\n",
       "3         M1G  43.770992 -79.216917\n",
       "4         M1H  43.773136 -79.239476"
      ]
     },
     "execution_count": 50,
     "metadata": {},
     "output_type": "execute_result"
    }
   ],
   "source": [
    "geo = pd.read_csv('Geospatial_Coordinates.csv', encoding = 'utf-8')\n",
    "geo.head()"
   ]
  },
  {
   "cell_type": "code",
   "execution_count": 51,
   "metadata": {},
   "outputs": [
    {
     "data": {
      "text/html": [
       "<div>\n",
       "<style scoped>\n",
       "    .dataframe tbody tr th:only-of-type {\n",
       "        vertical-align: middle;\n",
       "    }\n",
       "\n",
       "    .dataframe tbody tr th {\n",
       "        vertical-align: top;\n",
       "    }\n",
       "\n",
       "    .dataframe thead th {\n",
       "        text-align: right;\n",
       "    }\n",
       "</style>\n",
       "<table border=\"1\" class=\"dataframe\">\n",
       "  <thead>\n",
       "    <tr style=\"text-align: right;\">\n",
       "      <th></th>\n",
       "      <th>Postal Code</th>\n",
       "      <th>Borough</th>\n",
       "      <th>Neighborhood</th>\n",
       "      <th>Latitude</th>\n",
       "      <th>Longitude</th>\n",
       "    </tr>\n",
       "  </thead>\n",
       "  <tbody>\n",
       "    <tr>\n",
       "      <th>0</th>\n",
       "      <td>M3A</td>\n",
       "      <td>North York</td>\n",
       "      <td>Parkwoods</td>\n",
       "      <td>43.753259</td>\n",
       "      <td>-79.329656</td>\n",
       "    </tr>\n",
       "    <tr>\n",
       "      <th>1</th>\n",
       "      <td>M4A</td>\n",
       "      <td>North York</td>\n",
       "      <td>Victoria Village</td>\n",
       "      <td>43.725882</td>\n",
       "      <td>-79.315572</td>\n",
       "    </tr>\n",
       "    <tr>\n",
       "      <th>2</th>\n",
       "      <td>M5A</td>\n",
       "      <td>Downtown Toronto</td>\n",
       "      <td>Regent Park / Harbourfront</td>\n",
       "      <td>43.654260</td>\n",
       "      <td>-79.360636</td>\n",
       "    </tr>\n",
       "    <tr>\n",
       "      <th>3</th>\n",
       "      <td>M6A</td>\n",
       "      <td>North York</td>\n",
       "      <td>Lawrence Manor / Lawrence Heights</td>\n",
       "      <td>43.718518</td>\n",
       "      <td>-79.464763</td>\n",
       "    </tr>\n",
       "    <tr>\n",
       "      <th>4</th>\n",
       "      <td>M7A</td>\n",
       "      <td>Downtown Toronto</td>\n",
       "      <td>Queen's Park / Ontario Provincial Government</td>\n",
       "      <td>43.662301</td>\n",
       "      <td>-79.389494</td>\n",
       "    </tr>\n",
       "  </tbody>\n",
       "</table>\n",
       "</div>"
      ],
      "text/plain": [
       "  Postal Code           Borough                                  Neighborhood  \\\n",
       "0         M3A        North York                                     Parkwoods   \n",
       "1         M4A        North York                              Victoria Village   \n",
       "2         M5A  Downtown Toronto                    Regent Park / Harbourfront   \n",
       "3         M6A        North York             Lawrence Manor / Lawrence Heights   \n",
       "4         M7A  Downtown Toronto  Queen's Park / Ontario Provincial Government   \n",
       "\n",
       "    Latitude  Longitude  \n",
       "0  43.753259 -79.329656  \n",
       "1  43.725882 -79.315572  \n",
       "2  43.654260 -79.360636  \n",
       "3  43.718518 -79.464763  \n",
       "4  43.662301 -79.389494  "
      ]
     },
     "execution_count": 51,
     "metadata": {},
     "output_type": "execute_result"
    }
   ],
   "source": [
    "df = df.merge(geo, on=\"Postal Code\", how=\"left\")\n",
    "df.head()"
   ]
  },
  {
   "cell_type": "markdown",
   "metadata": {},
   "source": [
    "### Check the dataset if it has sufficient boroughs and neighborhoods"
   ]
  },
  {
   "cell_type": "code",
   "execution_count": 52,
   "metadata": {},
   "outputs": [
    {
     "name": "stdout",
     "output_type": "stream",
     "text": [
      "The dataframe has 10 boroughs and 103 neighborhoods.\n"
     ]
    }
   ],
   "source": [
    "print('The dataframe has {} boroughs and {} neighborhoods.'.format(\n",
    "        len(df['Borough'].unique()),\n",
    "        df.shape[0]\n",
    "    )\n",
    ")"
   ]
  },
  {
   "cell_type": "markdown",
   "metadata": {},
   "source": [
    "### Get the coordinate of Toronto "
   ]
  },
  {
   "cell_type": "code",
   "execution_count": 53,
   "metadata": {},
   "outputs": [
    {
     "name": "stdout",
     "output_type": "stream",
     "text": [
      "Collecting package metadata (current_repodata.json): done\n",
      "Solving environment: done\n",
      "\n",
      "# All requested packages already installed.\n",
      "\n",
      "The geograpical coordinate of Toronro are 43.6534817, -79.3839347.\n"
     ]
    }
   ],
   "source": [
    "!conda install -c conda-forge geopy --yes \n",
    "from geopy.geocoders import Nominatim \n",
    "address = 'Toronto, Ontario'\n",
    "geolocator = Nominatim(user_agent=\"toronto_explorer\")\n",
    "location = geolocator.geocode(address)\n",
    "latitude = location.latitude\n",
    "longitude = location.longitude\n",
    "print('The geograpical coordinate of Toronro are {}, {}.'.format(latitude, longitude))\n"
   ]
  },
  {
   "cell_type": "markdown",
   "metadata": {},
   "source": [
    "### Create map of Toronto with boroughs"
   ]
  },
  {
   "cell_type": "code",
   "execution_count": 54,
   "metadata": {},
   "outputs": [
    {
     "name": "stdout",
     "output_type": "stream",
     "text": [
      "Collecting package metadata (current_repodata.json): done\n",
      "Solving environment: done\n",
      "\n",
      "# All requested packages already installed.\n",
      "\n"
     ]
    },
    {
     "data": {
      "text/html": [
       "<div style=\"width:100%;\"><div style=\"position:relative;width:100%;height:0;padding-bottom:60%;\"><iframe src=\"about:blank\" style=\"position:absolute;width:100%;height:100%;left:0;top:0;border:none !important;\" data-html=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 onload=\"this.contentDocument.open();this.contentDocument.write(atob(this.getAttribute('data-html')));this.contentDocument.close();\" allowfullscreen webkitallowfullscreen mozallowfullscreen></iframe></div></div>"
      ],
      "text/plain": [
       "<folium.folium.Map at 0x7f136817b390>"
      ]
     },
     "execution_count": 54,
     "metadata": {},
     "output_type": "execute_result"
    }
   ],
   "source": [
    "#Create map\n",
    "!conda install -c conda-forge folium=0.5.0 --yes \n",
    "import folium \n",
    "map = folium.Map(location=[latitude, longitude], zoom_start=10)\n",
    "for lat, lng, borough, neighborhood in zip(df['Latitude'], df['Longitude'], df['Borough'], df['Neighborhood']):\n",
    "    label = '{}, {}'.format(neighborhood, borough)\n",
    "    label = folium.Popup(label, parse_html=True)\n",
    "    folium.CircleMarker(\n",
    "        [lat, lng],\n",
    "        radius=5,\n",
    "        popup=label,\n",
    "        color='blue',\n",
    "        fill=True,\n",
    "        fill_color='#3186cc',\n",
    "        fill_opacity=0.7,\n",
    "        parse_html=False).add_to(map)  \n",
    "    \n",
    "map"
   ]
  },
  {
   "cell_type": "markdown",
   "metadata": {},
   "source": [
    "### Define Foursquare Credentials and Version"
   ]
  },
  {
   "cell_type": "code",
   "execution_count": 55,
   "metadata": {},
   "outputs": [
    {
     "name": "stdout",
     "output_type": "stream",
     "text": [
      "Your credentails:\n",
      "CLIENT_ID: BCNE2ESHA5WP3VT3AMYGRPHRR0TDCLRRYIT52SUMBEFCLJ42\n",
      "CLIENT_SECRET:IOE2J1MN2IYDZJZQJUV0QTCDT045YKNWQ4TXJAWRGSHNSTLR\n"
     ]
    }
   ],
   "source": [
    "CLIENT_ID = 'BCNE2ESHA5WP3VT3AMYGRPHRR0TDCLRRYIT52SUMBEFCLJ42' # your Foursquare ID\n",
    "CLIENT_SECRET = 'IOE2J1MN2IYDZJZQJUV0QTCDT045YKNWQ4TXJAWRGSHNSTLR' # your Foursquare Secret\n",
    "VERSION = '20180605' # Foursquare API version\n",
    "\n",
    "print('Your credentails:')\n",
    "print('CLIENT_ID: ' + CLIENT_ID)\n",
    "print('CLIENT_SECRET:' + CLIENT_SECRET)"
   ]
  },
  {
   "cell_type": "markdown",
   "metadata": {},
   "source": [
    "Get the neighborhood's name and its latitude and longtitude"
   ]
  },
  {
   "cell_type": "code",
   "execution_count": 56,
   "metadata": {},
   "outputs": [
    {
     "name": "stdout",
     "output_type": "stream",
     "text": [
      "Latitude and longitude values of Parkwoods are 43.7532586, -79.3296565.\n"
     ]
    }
   ],
   "source": [
    "neighborhood_latitude = df.loc[0, 'Latitude'] # neighborhood latitude value\n",
    "neighborhood_longitude = df.loc[0, 'Longitude'] # neighborhood longitude value\n",
    "\n",
    "neighborhood_name = df.loc[0, 'Neighborhood'] # neighborhood name\n",
    "\n",
    "print('Latitude and longitude values of {} are {}, {}.'.format(neighborhood_name, \n",
    "                                                               neighborhood_latitude, \n",
    "                                                               neighborhood_longitude))"
   ]
  },
  {
   "cell_type": "markdown",
   "metadata": {},
   "source": [
    "### Get the top 10 venues that are in Parkwoods within a radius of 500 meters"
   ]
  },
  {
   "cell_type": "code",
   "execution_count": 57,
   "metadata": {},
   "outputs": [
    {
     "data": {
      "text/plain": [
       "'https://api.foursquare.com/v2/venues/explore?&client_id=BCNE2ESHA5WP3VT3AMYGRPHRR0TDCLRRYIT52SUMBEFCLJ42&client_secret=IOE2J1MN2IYDZJZQJUV0QTCDT045YKNWQ4TXJAWRGSHNSTLR&v=20180605&ll=43.7532586,-79.3296565&radius=500&limit=10'"
      ]
     },
     "execution_count": 57,
     "metadata": {},
     "output_type": "execute_result"
    }
   ],
   "source": [
    "LIMIT = 10 # limit of number of venues returned by Foursquare API\n",
    "radius = 500 # define radius\n",
    "# create URL\n",
    "url = 'https://api.foursquare.com/v2/venues/explore?&client_id={}&client_secret={}&v={}&ll={},{}&radius={}&limit={}'.format(\n",
    "    CLIENT_ID, \n",
    "    CLIENT_SECRET, \n",
    "    VERSION, \n",
    "    neighborhood_latitude, \n",
    "    neighborhood_longitude, \n",
    "    radius, \n",
    "    LIMIT)\n",
    "url"
   ]
  },
  {
   "cell_type": "code",
   "execution_count": 58,
   "metadata": {},
   "outputs": [
    {
     "data": {
      "text/plain": [
       "{'meta': {'code': 200, 'requestId': '5ea2a33d1a4b0a7462d1d57a'},\n",
       " 'response': {'warning': {'text': \"There aren't a lot of results near you. Try something more general, reset your filters, or expand the search area.\"},\n",
       "  'headerLocation': 'Parkwoods - Donalda',\n",
       "  'headerFullLocation': 'Parkwoods - Donalda, Toronto',\n",
       "  'headerLocationGranularity': 'neighborhood',\n",
       "  'totalResults': 2,\n",
       "  'suggestedBounds': {'ne': {'lat': 43.757758604500005,\n",
       "    'lng': -79.32343823984928},\n",
       "   'sw': {'lat': 43.7487585955, 'lng': -79.33587476015072}},\n",
       "  'groups': [{'type': 'Recommended Places',\n",
       "    'name': 'recommended',\n",
       "    'items': [{'reasons': {'count': 0,\n",
       "       'items': [{'summary': 'This spot is popular',\n",
       "         'type': 'general',\n",
       "         'reasonName': 'globalInteractionReason'}]},\n",
       "      'venue': {'id': '4e8d9dcdd5fbbbb6b3003c7b',\n",
       "       'name': 'Brookbanks Park',\n",
       "       'location': {'address': 'Toronto',\n",
       "        'lat': 43.751976046055574,\n",
       "        'lng': -79.33214044722958,\n",
       "        'labeledLatLngs': [{'label': 'display',\n",
       "          'lat': 43.751976046055574,\n",
       "          'lng': -79.33214044722958}],\n",
       "        'distance': 245,\n",
       "        'cc': 'CA',\n",
       "        'city': 'Toronto',\n",
       "        'state': 'ON',\n",
       "        'country': 'Canada',\n",
       "        'formattedAddress': ['Toronto', 'Toronto ON', 'Canada']},\n",
       "       'categories': [{'id': '4bf58dd8d48988d163941735',\n",
       "         'name': 'Park',\n",
       "         'pluralName': 'Parks',\n",
       "         'shortName': 'Park',\n",
       "         'icon': {'prefix': 'https://ss3.4sqi.net/img/categories_v2/parks_outdoors/park_',\n",
       "          'suffix': '.png'},\n",
       "         'primary': True}],\n",
       "       'photos': {'count': 0, 'groups': []}},\n",
       "      'referralId': 'e-0-4e8d9dcdd5fbbbb6b3003c7b-0'},\n",
       "     {'reasons': {'count': 0,\n",
       "       'items': [{'summary': 'This spot is popular',\n",
       "         'type': 'general',\n",
       "         'reasonName': 'globalInteractionReason'}]},\n",
       "      'venue': {'id': '4cb11e2075ebb60cd1c4caad',\n",
       "       'name': 'Variety Store',\n",
       "       'location': {'address': '29 Valley Woods Road',\n",
       "        'lat': 43.75197441585782,\n",
       "        'lng': -79.33311418516017,\n",
       "        'labeledLatLngs': [{'label': 'display',\n",
       "          'lat': 43.75197441585782,\n",
       "          'lng': -79.33311418516017}],\n",
       "        'distance': 312,\n",
       "        'cc': 'CA',\n",
       "        'city': 'Toronto',\n",
       "        'state': 'ON',\n",
       "        'country': 'Canada',\n",
       "        'formattedAddress': ['29 Valley Woods Road', 'Toronto ON', 'Canada']},\n",
       "       'categories': [{'id': '4bf58dd8d48988d1f9941735',\n",
       "         'name': 'Food & Drink Shop',\n",
       "         'pluralName': 'Food & Drink Shops',\n",
       "         'shortName': 'Food & Drink',\n",
       "         'icon': {'prefix': 'https://ss3.4sqi.net/img/categories_v2/shops/foodanddrink_',\n",
       "          'suffix': '.png'},\n",
       "         'primary': True}],\n",
       "       'photos': {'count': 0, 'groups': []}},\n",
       "      'referralId': 'e-0-4cb11e2075ebb60cd1c4caad-1'}]}]}}"
      ]
     },
     "execution_count": 58,
     "metadata": {},
     "output_type": "execute_result"
    }
   ],
   "source": [
    "results = requests.get(url).json()\n",
    "results"
   ]
  },
  {
   "cell_type": "code",
   "execution_count": 59,
   "metadata": {},
   "outputs": [
    {
     "name": "stderr",
     "output_type": "stream",
     "text": [
      "/home/jupyterlab/conda/envs/python/lib/python3.6/site-packages/ipykernel_launcher.py:17: FutureWarning: pandas.io.json.json_normalize is deprecated, use pandas.json_normalize instead\n"
     ]
    },
    {
     "data": {
      "text/html": [
       "<div>\n",
       "<style scoped>\n",
       "    .dataframe tbody tr th:only-of-type {\n",
       "        vertical-align: middle;\n",
       "    }\n",
       "\n",
       "    .dataframe tbody tr th {\n",
       "        vertical-align: top;\n",
       "    }\n",
       "\n",
       "    .dataframe thead th {\n",
       "        text-align: right;\n",
       "    }\n",
       "</style>\n",
       "<table border=\"1\" class=\"dataframe\">\n",
       "  <thead>\n",
       "    <tr style=\"text-align: right;\">\n",
       "      <th></th>\n",
       "      <th>name</th>\n",
       "      <th>categories</th>\n",
       "      <th>lat</th>\n",
       "      <th>lng</th>\n",
       "    </tr>\n",
       "  </thead>\n",
       "  <tbody>\n",
       "    <tr>\n",
       "      <th>0</th>\n",
       "      <td>Brookbanks Park</td>\n",
       "      <td>Park</td>\n",
       "      <td>43.751976</td>\n",
       "      <td>-79.332140</td>\n",
       "    </tr>\n",
       "    <tr>\n",
       "      <th>1</th>\n",
       "      <td>Variety Store</td>\n",
       "      <td>Food &amp; Drink Shop</td>\n",
       "      <td>43.751974</td>\n",
       "      <td>-79.333114</td>\n",
       "    </tr>\n",
       "  </tbody>\n",
       "</table>\n",
       "</div>"
      ],
      "text/plain": [
       "              name         categories        lat        lng\n",
       "0  Brookbanks Park               Park  43.751976 -79.332140\n",
       "1    Variety Store  Food & Drink Shop  43.751974 -79.333114"
      ]
     },
     "execution_count": 59,
     "metadata": {},
     "output_type": "execute_result"
    }
   ],
   "source": [
    "import json\n",
    "import requests\n",
    "from pandas.io.json import json_normalize \n",
    "# function that extracts the category of the venue\n",
    "def get_category_type(row):\n",
    "    try:\n",
    "        categories_list = row['categories']\n",
    "    except:\n",
    "        categories_list = row['venue.categories']\n",
    "        \n",
    "    if len(categories_list) == 0:\n",
    "        return None\n",
    "    else:\n",
    "        return categories_list[0]['name']\n",
    "    \n",
    "venues = results['response']['groups'][0]['items']    \n",
    "nearby_venues = json_normalize(venues) # flatten JSON\n",
    "# filter columns\n",
    "filtered_columns = ['venue.name', 'venue.categories', 'venue.location.lat', 'venue.location.lng']\n",
    "nearby_venues =nearby_venues.loc[:, filtered_columns]\n",
    "\n",
    "# filter the category for each row\n",
    "nearby_venues['venue.categories'] = nearby_venues.apply(get_category_type, axis=1)\n",
    "\n",
    "# clean columns\n",
    "nearby_venues.columns = [col.split(\".\")[-1] for col in nearby_venues.columns]\n",
    "nearby_venues.head()\n"
   ]
  },
  {
   "cell_type": "code",
   "execution_count": 60,
   "metadata": {},
   "outputs": [
    {
     "name": "stdout",
     "output_type": "stream",
     "text": [
      "2 venues were returned by Foursquare.\n"
     ]
    }
   ],
   "source": [
    "print('{} venues were returned by Foursquare.'.format(nearby_venues.shape[0]))"
   ]
  },
  {
   "cell_type": "code",
   "execution_count": null,
   "metadata": {},
   "outputs": [],
   "source": []
  }
 ],
 "metadata": {
  "kernelspec": {
   "display_name": "Python",
   "language": "python",
   "name": "conda-env-python-py"
  },
  "language_info": {
   "codemirror_mode": {
    "name": "ipython",
    "version": 3
   },
   "file_extension": ".py",
   "mimetype": "text/x-python",
   "name": "python",
   "nbconvert_exporter": "python",
   "pygments_lexer": "ipython3",
   "version": "3.6.10"
  }
 },
 "nbformat": 4,
 "nbformat_minor": 4
}
